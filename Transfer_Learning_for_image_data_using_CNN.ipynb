{
  "cells": [
    {
      "cell_type": "code",
      "execution_count": 1,
      "metadata": {
        "colab": {
          "base_uri": "https://localhost:8080/"
        },
        "id": "jKM-946Vj3YR",
        "outputId": "f730c110-d3b3-48d6-afda-425d7d179e81"
      },
      "outputs": [
        {
          "name": "stdout",
          "output_type": "stream",
          "text": [
            "Drive already mounted at /content/drive; to attempt to forcibly remount, call drive.mount(\"/content/drive\", force_remount=True).\n"
          ]
        }
      ],
      "source": [
        "from google.colab import drive\n",
        "drive.mount('/content/drive')"
      ]
    },
    {
      "cell_type": "code",
      "execution_count": 2,
      "metadata": {
        "colab": {
          "base_uri": "https://localhost:8080/"
        },
        "id": "Q7qyf7Pgj7Ju",
        "outputId": "98e44fd2-6ace-431f-96dd-25f30a73fb77"
      },
      "outputs": [
        {
          "name": "stdout",
          "output_type": "stream",
          "text": [
            "Using device: cuda\n"
          ]
        }
      ],
      "source": [
        "# Import necessary libraries\n",
        "import torch\n",
        "import torchvision\n",
        "import torchvision.transforms as transforms\n",
        "from torchvision.datasets import ImageFolder\n",
        "from torch.utils.data import DataLoader, random_split\n",
        "from torchvision import models\n",
        "import torch.nn as nn\n",
        "import torch.optim as optim\n",
        "from sklearn.metrics import classification_report\n",
        "import numpy as np\n",
        "import matplotlib.pyplot as plt\n",
        "\n",
        "# Check if GPU is available\n",
        "device = torch.device(\"cuda\" if torch.cuda.is_available() else \"cpu\")\n",
        "print(\"Using device:\", device)\n"
      ]
    },
    {
      "cell_type": "markdown",
      "metadata": {
        "id": "SNQw2fnYqio_"
      },
      "source": [
        "# Load and Prepare Data"
      ]
    },
    {
      "cell_type": "code",
      "execution_count": 3,
      "metadata": {
        "id": "HpvqC98bj-JN"
      },
      "outputs": [],
      "source": [
        "# Define data path\n",
        "data_dir = '/content/drive/MyDrive/Applied ML/Data/Assignment 5/Image Classification'\n",
        "\n",
        "# Define transformations\n",
        "transform = transforms.Compose([\n",
        "    transforms.Resize((224, 224)),\n",
        "    transforms.ToTensor(),\n",
        "    transforms.Normalize(mean=[0.485, 0.456, 0.406], std=[0.229, 0.224, 0.225])\n",
        "])\n",
        "\n",
        "# Load dataset\n",
        "dataset = ImageFolder(data_dir, transform=transform)\n",
        "\n",
        "# Split dataset into train and validation sets\n",
        "train_size = int(0.8 * len(dataset))\n",
        "val_size = len(dataset) - train_size\n",
        "train_dataset, val_dataset = random_split(dataset, [train_size, val_size])\n",
        "\n",
        "# Create data loaders\n",
        "batch_size = 32\n",
        "train_loader = DataLoader(train_dataset, batch_size=batch_size, shuffle=True)\n",
        "val_loader = DataLoader(val_dataset, batch_size=batch_size, shuffle=False)\n"
      ]
    },
    {
      "cell_type": "markdown",
      "metadata": {
        "id": "utCCxrDfqnwK"
      },
      "source": [
        "# Define the Model"
      ]
    },
    {
      "cell_type": "code",
      "execution_count": 4,
      "metadata": {
        "colab": {
          "base_uri": "https://localhost:8080/"
        },
        "id": "58-bI5S0kYcs",
        "outputId": "a810b512-b5a2-4f9a-be03-6454dfcbc4ae"
      },
      "outputs": [
        {
          "name": "stderr",
          "output_type": "stream",
          "text": [
            "/usr/local/lib/python3.10/dist-packages/torchvision/models/_utils.py:208: UserWarning: The parameter 'pretrained' is deprecated since 0.13 and may be removed in the future, please use 'weights' instead.\n",
            "  warnings.warn(\n",
            "/usr/local/lib/python3.10/dist-packages/torchvision/models/_utils.py:223: UserWarning: Arguments other than a weight enum or `None` for 'weights' are deprecated since 0.13 and may be removed in the future. The current behavior is equivalent to passing `weights=ResNet18_Weights.IMAGENET1K_V1`. You can also use `weights=ResNet18_Weights.DEFAULT` to get the most up-to-date weights.\n",
            "  warnings.warn(msg)\n"
          ]
        }
      ],
      "source": [
        "# Load a pre-trained model\n",
        "model = models.resnet18(pretrained=True)\n",
        "\n",
        "# Freeze all layers in the model\n",
        "for param in model.parameters():\n",
        "    param.requires_grad = False\n",
        "\n",
        "# Modify the classifier layer for binary classification\n",
        "num_features = model.fc.in_features\n",
        "model.fc = nn.Linear(num_features, 2)  # '2' for binary classification\n",
        "\n",
        "# Move model to the appropriate device\n",
        "model = model.to(device)\n"
      ]
    },
    {
      "cell_type": "markdown",
      "metadata": {
        "id": "IaaPxaL8qrGF"
      },
      "source": [
        "# Define Loss Function and Optimizer"
      ]
    },
    {
      "cell_type": "code",
      "execution_count": 5,
      "metadata": {
        "id": "_T4okCX4kfVh"
      },
      "outputs": [],
      "source": [
        "criterion = nn.CrossEntropyLoss()\n",
        "optimizer = optim.Adam(model.fc.parameters(), lr=0.001)\n"
      ]
    },
    {
      "cell_type": "markdown",
      "metadata": {
        "id": "GPngQrKcqvCT"
      },
      "source": [
        "# Train the Model"
      ]
    },
    {
      "cell_type": "code",
      "execution_count": 6,
      "metadata": {
        "colab": {
          "base_uri": "https://localhost:8080/"
        },
        "id": "5n0bFX3Skh_J",
        "outputId": "15bea54f-c0c1-4c3a-e5e9-016fc3d6952c"
      },
      "outputs": [
        {
          "name": "stdout",
          "output_type": "stream",
          "text": [
            "Epoch 1, Train Loss: 0.5854, Validation Loss: 0.4321\n",
            "Epoch 2, Train Loss: 0.4197, Validation Loss: 0.3319\n",
            "Epoch 3, Train Loss: 0.3234, Validation Loss: 0.3031\n",
            "Epoch 4, Train Loss: 0.2992, Validation Loss: 0.2649\n",
            "Epoch 5, Train Loss: 0.2360, Validation Loss: 0.2502\n",
            "Epoch 6, Train Loss: 0.2117, Validation Loss: 0.2334\n",
            "Epoch 7, Train Loss: 0.1931, Validation Loss: 0.2325\n",
            "Epoch 8, Train Loss: 0.1655, Validation Loss: 0.2157\n",
            "Epoch 9, Train Loss: 0.1494, Validation Loss: 0.2105\n",
            "Epoch 10, Train Loss: 0.1434, Validation Loss: 0.2195\n",
            "Epoch 11, Train Loss: 0.1364, Validation Loss: 0.2075\n",
            "Epoch 12, Train Loss: 0.1393, Validation Loss: 0.1983\n",
            "Epoch 13, Train Loss: 0.1336, Validation Loss: 0.1971\n",
            "Epoch 14, Train Loss: 0.1289, Validation Loss: 0.2235\n",
            "Epoch 15, Train Loss: 0.1133, Validation Loss: 0.1982\n",
            "Epoch 16, Train Loss: 0.1181, Validation Loss: 0.1894\n",
            "Epoch 17, Train Loss: 0.1075, Validation Loss: 0.1913\n",
            "Epoch 18, Train Loss: 0.1212, Validation Loss: 0.2104\n",
            "Epoch 19, Train Loss: 0.1034, Validation Loss: 0.1845\n",
            "Epoch 20, Train Loss: 0.0860, Validation Loss: 0.1846\n",
            "Epoch 21, Train Loss: 0.1066, Validation Loss: 0.2093\n",
            "Epoch 22, Train Loss: 0.0777, Validation Loss: 0.1912\n",
            "Epoch 23, Train Loss: 0.0798, Validation Loss: 0.1860\n",
            "Epoch 24, Train Loss: 0.0736, Validation Loss: 0.1855\n",
            "Epoch 25, Train Loss: 0.0960, Validation Loss: 0.1925\n",
            "Epoch 26, Train Loss: 0.0691, Validation Loss: 0.2013\n",
            "Epoch 27, Train Loss: 0.0899, Validation Loss: 0.1946\n",
            "Epoch 28, Train Loss: 0.0584, Validation Loss: 0.1979\n",
            "Epoch 29, Train Loss: 0.0597, Validation Loss: 0.1908\n",
            "Epoch 30, Train Loss: 0.0742, Validation Loss: 0.1864\n",
            "Epoch 31, Train Loss: 0.0531, Validation Loss: 0.1933\n",
            "Epoch 32, Train Loss: 0.0678, Validation Loss: 0.2027\n",
            "Epoch 33, Train Loss: 0.0796, Validation Loss: 0.1939\n",
            "Epoch 34, Train Loss: 0.0495, Validation Loss: 0.1872\n",
            "Epoch 35, Train Loss: 0.0715, Validation Loss: 0.1929\n",
            "Epoch 36, Train Loss: 0.0531, Validation Loss: 0.1954\n",
            "Epoch 37, Train Loss: 0.0475, Validation Loss: 0.1985\n",
            "Epoch 38, Train Loss: 0.0620, Validation Loss: 0.1937\n",
            "Epoch 39, Train Loss: 0.0589, Validation Loss: 0.1976\n",
            "Epoch 40, Train Loss: 0.0437, Validation Loss: 0.1909\n",
            "Epoch 41, Train Loss: 0.0544, Validation Loss: 0.2005\n",
            "Epoch 42, Train Loss: 0.0449, Validation Loss: 0.1983\n",
            "Epoch 43, Train Loss: 0.0393, Validation Loss: 0.1963\n",
            "Epoch 44, Train Loss: 0.0360, Validation Loss: 0.1937\n",
            "Epoch 45, Train Loss: 0.0515, Validation Loss: 0.1954\n",
            "Epoch 46, Train Loss: 0.0369, Validation Loss: 0.2051\n",
            "Epoch 47, Train Loss: 0.0392, Validation Loss: 0.2119\n",
            "Epoch 48, Train Loss: 0.0514, Validation Loss: 0.2004\n",
            "Epoch 49, Train Loss: 0.0385, Validation Loss: 0.2005\n",
            "Epoch 50, Train Loss: 0.0397, Validation Loss: 0.2052\n",
            "              precision    recall  f1-score   support\n",
            "\n",
            "        Duck       0.95      0.86      0.90        22\n",
            "     Chicken       0.85      0.94      0.89        18\n",
            "\n",
            "    accuracy                           0.90        40\n",
            "   macro avg       0.90      0.90      0.90        40\n",
            "weighted avg       0.90      0.90      0.90        40\n",
            "\n"
          ]
        }
      ],
      "source": [
        "# Training and validation loss lists\n",
        "train_losses = []\n",
        "val_losses = []\n",
        "\n",
        "num_epochs = 50\n",
        "for epoch in range(num_epochs):\n",
        "    model.train()\n",
        "    train_loss = 0.0\n",
        "    for inputs, labels in train_loader:\n",
        "        inputs, labels = inputs.to(device), labels.to(device)\n",
        "\n",
        "        optimizer.zero_grad()\n",
        "\n",
        "        outputs = model(inputs)\n",
        "        loss = criterion(outputs, labels)\n",
        "        loss.backward()\n",
        "        optimizer.step()\n",
        "\n",
        "        train_loss += loss.item() * inputs.size(0)\n",
        "\n",
        "    train_loss = train_loss / len(train_loader.dataset)\n",
        "    train_losses.append(train_loss)\n",
        "\n",
        "    # Validation loop\n",
        "    model.eval()\n",
        "    val_loss = 0.0\n",
        "    all_preds = []\n",
        "    all_labels = []\n",
        "    with torch.no_grad():\n",
        "        for inputs, labels in val_loader:\n",
        "            inputs, labels = inputs.to(device), labels.to(device)\n",
        "            outputs = model(inputs)\n",
        "            loss = criterion(outputs, labels)\n",
        "            val_loss += loss.item() * inputs.size(0)\n",
        "            _, predicted = torch.max(outputs, 1)\n",
        "            all_preds.extend(predicted.cpu().numpy())\n",
        "            all_labels.extend(labels.cpu().numpy())\n",
        "\n",
        "    val_loss = val_loss / len(val_loader.dataset)\n",
        "    val_losses.append(val_loss)\n",
        "\n",
        "    print(f'Epoch {epoch+1}, Train Loss: {train_loss:.4f}, Validation Loss: {val_loss:.4f}')\n",
        "print(classification_report(all_labels, all_preds, target_names=['Duck', 'Chicken']))\n"
      ]
    },
    {
      "cell_type": "markdown",
      "metadata": {
        "id": "sMk51A09r_Ds"
      },
      "source": [
        "# Plotting the loss"
      ]
    },
    {
      "cell_type": "code",
      "execution_count": 7,
      "metadata": {
        "colab": {
          "base_uri": "https://localhost:8080/",
          "height": 487
        },
        "id": "hGeJACycruX3",
        "outputId": "a0f76de7-127c-4fbf-deee-d1d8643d493b"
      },
      "outputs": [
        {
          "data": {
            "image/png": "[encoded data removed]",
            "text/plain": [
              "<Figure size 1000x500 with 1 Axes>"
            ]
          },
          "metadata": {},
          "output_type": "display_data"
        }
      ],
      "source": [
        "plt.figure(figsize=(10, 5))\n",
        "plt.plot(train_losses, label='Training loss')\n",
        "plt.plot(val_losses, label='Validation loss')\n",
        "plt.title('Loss per Epoch')\n",
        "plt.xlabel('Epochs')\n",
        "plt.ylabel('Loss')\n",
        "plt.legend()\n",
        "plt.show()\n"
      ]
    }
  ],
  "metadata": {
    "accelerator": "GPU",
    "colab": {
      "gpuType": "T4",
      "provenance": []
    },
    "kernelspec": {
      "display_name": "Python 3",
      "language": "python",
      "name": "python3"
    },
    "language_info": {
      "name": "python",
      "version": "3.10.9 (main, Jan 28 2023, 21:27:00) [Clang 14.0.0 (clang-1400.0.29.202)]"
    },
    "vscode": {
      "interpreter": {
        "hash": "1223e1bb6f70b4e85dab1ecdac04c42cbf45c1eafc17bc1f0f72cf403c1b7f17"
      }
    }
  },
  "nbformat": 4,
  "nbformat_minor": 0
}
